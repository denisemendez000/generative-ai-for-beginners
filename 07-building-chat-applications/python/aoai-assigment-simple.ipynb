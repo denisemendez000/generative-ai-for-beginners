{
 "cells": [
  {
   "cell_type": "code",
   "execution_count": 1,
   "metadata": {},
   "outputs": [
    {
     "name": "stdout",
     "output_type": "stream",
     "text": [
      "'2024-08-01-preview' # Default is set!\n",
      "gpt4mdam\n"
     ]
    }
   ],
   "source": [
    "import os\n",
    "import openai\n",
    "from openai import AzureOpenAI\n",
    "\n",
    "openai.api_type = \"azure\"\n",
    "openai.api_version = os.getenv(\"AZURE_OPENAI_API_VERSION\",\"\").strip()\n",
    "print(openai.api_version)\n",
    "\n",
    "API_KEY = os.getenv(\"DAMAI\",\"\").strip()\n",
    "\n",
    "assert API_KEY, \"ERROR: Azure OpenAI Key is missing\"\n",
    "openai.api_key = API_KEY\n",
    "\n",
    "RESOURCE_ENDPOINT = os.getenv(\"AZURE_OPENAI_ENDPOINT\",\"\").strip()\n",
    "assert RESOURCE_ENDPOINT, \"ERROR: Azure OpenAI Endpoint is missing\"\n",
    "assert \"openai.azure.com\" in RESOURCE_ENDPOINT.lower(), \"ERROR: Azure OpenAI Endpoint should be in the form: \\n\\n\\t<your unique endpoint identifier>.openai.azure.com\"\n",
    "openai.api_base = RESOURCE_ENDPOINT\n",
    "deployment = os.environ['AZURE_OPENAI_DEPLOYMENT'] # replace with your deployment name\n",
    "print(deployment)\n",
    "\n",
    "client = AzureOpenAI(\n",
    "    api_key=API_KEY,  # Use the variable instead of accessing os.environ again\n",
    "    azure_endpoint=RESOURCE_ENDPOINT,\n",
    "    api_version = \"2024-08-01-preview\"\n",
    "  )\n"
   ]
  },
  {
   "cell_type": "code",
   "execution_count": 12,
   "metadata": {},
   "outputs": [
    {
     "name": "stdout",
     "output_type": "stream",
     "text": [
      "I'm not a doctor, but I can provide some general information on potential causes of foot pain. The causes can vary widely depending on the specific location of the pain, the nature of the pain, and any accompanying symptoms. Here are some common possibilities:\n",
      "\n",
      "1. **Plantar Fasciitis**: Inflammation of the plantar fascia, causing heel pain and stiffness, especially in the morning.\n",
      "\n",
      "2. **Stress Fractures**: Small cracks in the bones of the foot, often resulting from overuse or repetitive impact.\n",
      "\n",
      "3. **Tendinitis**: Inflammation of the tendons, which can cause pain around the ankle or heel.\n",
      "\n",
      "4. **Arthritis**: Osteoarthritis or rheumatoid arthritis can cause joint pain and stiffness in the foot.\n",
      "\n",
      "5. **Bunions**: A painful bony bump at the base of the big toe, which can cause swelling and discomfort.\n",
      "\n",
      "6. **Morton's Neuroma**: A thickening of the tissue around a nerve leading to the toes, which can cause sharp pain in the ball of the foot.\n",
      "\n",
      "7. **Flat Feet or High Arches**: Structural issues can lead to pain and discomfort in the foot and other areas, such as the knees or hips.\n",
      "\n",
      "8. **Injuries**: Sprains, strains, or fractures from falls or accidents can result in localized pain.\n",
      "\n",
      "9. **Circulatory Issues**: Conditions like peripheral artery disease can lead to pain due to reduced blood flow.\n",
      "\n",
      "10. **Nerve Issues**: Conditions like sciatica or neuropathy can cause shooting or burning pain in the foot.\n",
      "\n",
      "If your foot pain is severe, persistent, or accompanied by other concerning symptoms (such as swelling, redness, or inability to bear weight), it's important to see a healthcare professional for a proper diagnosis and treatment.\n"
     ]
    }
   ],
   "source": [
    "# Create your first prompt\n",
    "text_prompt = \" My foot hurts, what can be wrong?\"\n",
    "\n",
    "\n",
    "completion = client.chat.completions.create(model=deployment,   messages = [\n",
    "      {\"role\":\"system\", \"content\":\"I'm a doctor, specialist on surgery\"},\n",
    "      {\"role\":\"user\",\"content\":text_prompt},])\n",
    "\n",
    "#response = openai.ChatCompletion.create(\n",
    "#  engine=deployment,\n",
    "#  messages = [\n",
    "#      {\"role\":\"system\", \"content\":\"I'm a doctor, specialist on surgery\"},\n",
    "#      {\"role\":\"user\",\"content\":text_prompt},])\n",
    "\n",
    "\n",
    "print(completion.choices[0].message.content)"
   ]
  }
 ],
 "metadata": {
  "kernelspec": {
   "display_name": "Python 3",
   "language": "python",
   "name": "python3"
  },
  "language_info": {
   "codemirror_mode": {
    "name": "ipython",
    "version": 3
   },
   "file_extension": ".py",
   "mimetype": "text/x-python",
   "name": "python",
   "nbconvert_exporter": "python",
   "pygments_lexer": "ipython3",
   "version": "3.12.1"
  },
  "orig_nbformat": 4
 },
 "nbformat": 4,
 "nbformat_minor": 2
}
