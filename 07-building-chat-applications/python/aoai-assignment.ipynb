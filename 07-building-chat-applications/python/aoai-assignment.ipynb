{
  "cells": [
    {
      "attachments": {},
      "cell_type": "markdown",
      "metadata": {
        "nteract": {
          "transient": {
            "deleting": false
          }
        }
      },
      "source": [
        "# Chapter 7: Building Chat Applications\n",
        "## Azure OpenAI API Quickstart"
      ]
    },
    {
      "attachments": {},
      "cell_type": "markdown",
      "metadata": {
        "nteract": {
          "transient": {
            "deleting": false
          }
        }
      },
      "source": [
        "## Overview\n",
        "This notebook is adapted from the [Azure OpenAI Samples Repository](https://github.com/Azure/azure-openai-samples?WT.mc_id=academic-105485-koreyst) that includes notebooks that also access the [OpenAI](notebook-openai.ipynb) service.\n",
        "\n",
        "The Python OpenAI API works with Azure OpenAI as well, with a few modifications. Learn more about the differences here: [How to switch between OpenAI and Azure OpenAI endpoints with Python](https://learn.microsoft.com/azure/ai-services/openai/how-to/switching-endpoints?WT.mc_id=academic-109527-jasmineg)\n",
        "\n",
        "For more quickstart examples please refer to the official [Azure OpenAI Quickstart Documentation](https://learn.microsoft.com/azure/cognitive-services/openai/quickstart?pivots=programming-language-studio&WT.mc_id=academic-105485-koreyst)"
      ]
    },
    {
      "attachments": {},
      "cell_type": "markdown",
      "metadata": {
        "nteract": {
          "transient": {
            "deleting": false
          }
        }
      },
      "source": [
        "## Table of Contents  \n",
        "\n",
        "[Overview](#overview)  \n",
        "[Getting started with Azure OpenAI Service](#getting-started-with-azure-openai-service)  \n",
        "[Build your first prompt](#build-your-first-prompt)  \n",
        "\n",
        "[Use Cases](#use-cases)    \n",
        "[1. Summarize Text](#summarize-text)  \n",
        "[2. Classify Text](#classify-text)  \n",
        "[3. Generate New Product Names](#generate-new-product-names)  \n",
        "[4. Fine Tune a Classifier](#fine-tune-a-classifier)  \n",
        "[5. Embeddings](#embeddings)\n",
        "\n",
        "[References](#references)"
      ]
    },
    {
      "attachments": {},
      "cell_type": "markdown",
      "metadata": {
        "nteract": {
          "transient": {
            "deleting": false
          }
        }
      },
      "source": [
        "### Getting started with Azure OpenAI Service\n",
        "\n",
        "New customers will need to [apply for access](https://aka.ms/oai/access?WT.mc_id=academic-105485-koreyst) to Azure OpenAI Service.  \n",
        "After approval is complete, customers can log into the Azure portal, create an Azure OpenAI Service resource, and start experimenting with models via the studio  \n",
        "\n",
        "[Great resource for getting started quickly](https://techcommunity.microsoft.com/blog/educatordeveloperblog/azure-openai-service-is-now-generally-available/3719177?WT.mc_id=academic-105485-koreyst)"
      ]
    },
    {
      "attachments": {},
      "cell_type": "markdown",
      "metadata": {
        "nteract": {
          "transient": {
            "deleting": false
          }
        }
      },
      "source": [
        "### Build your first prompt  \n",
        "This short exercise will provide a basic introduction for submitting prompts to an OpenAI model for a simple task \"summarization\".\n",
        "\n",
        "\n",
        "**Steps**:  \n",
        "1. Install OpenAI library in your python environment  \n",
        "2. Load standard helper libraries and set your typical OpenAI security credentials for the OpenAI Service that you've created  \n",
        "3. Choose a model for your task  \n",
        "4. Create a simple prompt for the model  \n",
        "5. Submit your request to the model API!"
      ]
    },
    {
      "attachments": {},
      "cell_type": "markdown",
      "metadata": {
        "nteract": {
          "transient": {
            "deleting": false
          }
        }
      },
      "source": [
        "### 1. Install OpenAI"
      ]
    },
    {
      "cell_type": "markdown",
      "metadata": {},
      "source": [
        "  > [!NOTE] This step is not necessary if run this notebook on Codespaces or within a Devcontainer"
      ]
    },
    {
      "cell_type": "code",
      "execution_count": null,
      "metadata": {
        "gather": {
          "logged": 1674254990318
        },
        "jupyter": {
          "outputs_hidden": true,
          "source_hidden": false
        },
        "nteract": {
          "transient": {
            "deleting": false
          }
        }
      },
      "outputs": [],
      "source": [
        "%pip install openai python-dotenv"
      ]
    },
    {
      "attachments": {},
      "cell_type": "markdown",
      "metadata": {
        "nteract": {
          "transient": {
            "deleting": false
          }
        }
      },
      "source": [
        "### 2. Import helper libraries and instantiate credentials"
      ]
    },
    {
      "cell_type": "code",
      "execution_count": null,
      "metadata": {
        "gather": {
          "logged": 1674829434433
        },
        "jupyter": {
          "outputs_hidden": false,
          "source_hidden": false
        },
        "nteract": {
          "transient": {
            "deleting": false
          }
        }
      },
      "outputs": [],
      "source": [
        "#import os\n",
        "#from openai import AzureOpenAI\n",
        "#import numpy as np\n",
        "#from dotenv import load_dotenv\n",
        "#load_dotenv()\n",
        "#\n",
        "##validate data inside .env file\n",
        "#pi_key=os.environ['DAMAI']\n",
        "#api_version = os.environ['AZURE_OPENAI_API_VERSION']\n",
        "#print(api_version)\n",
        "#print(pi_key)\n",
        "#RESOURCE_ENDPOINT = os.getenv(\"AZURE_OPENAI_ENDPOINT\",\"\").strip()\n",
        "#assert RESOURCE_ENDPOINT, \"ERROR: Azure OpenAI Endpoint is missing\"\n",
        "#assert \"openai.azure.com\" in RESOURCE_ENDPOINT.lower(), \"ERROR: Azure OpenAI Endpoint should be in the form: \\n\\n\\t<your unique endpoint identifier>.openai.azure.com\"\n",
        "#print(RESOURCE_ENDPOINT)\n",
        "#\n",
        "#client = AzureOpenAI(\n",
        "#  api_key=os.environ['DAMAI'],  # this is also the default, it can be omitted\n",
        "#  azure_endpoint=RESOURCE_ENDPOINT,\n",
        "#  api_version = os.environ['AZURE_OPENAI_API_VERSION']\n",
        "#)\n",
        "\n",
        "import os\n",
        "import openai\n",
        "from openai import AzureOpenAI\n",
        "from dotenv import load_dotenv\n",
        "load_dotenv()\n",
        "\n",
        "openai.api_type = \"azure\"\n",
        "openai.api_version = os.getenv(\"AZURE_OPENAI_API_VERSION\",\"\").strip()\n",
        "print(openai.api_version)\n",
        "\n",
        "API_KEY = os.getenv(\"DAMAI\",\"\").strip()\n",
        "print(API_KEY)\n",
        "assert API_KEY, \"ERROR: Azure OpenAI Key is missing\"\n",
        "openai.api_key = API_KEY\n",
        "\n",
        "RESOURCE_ENDPOINT = os.getenv(\"AZURE_OPENAI_ENDPOINT\",\"\").strip()\n",
        "assert RESOURCE_ENDPOINT, \"ERROR: Azure OpenAI Endpoint is missing\"\n",
        "assert \"openai.azure.com\" in RESOURCE_ENDPOINT.lower(), \"ERROR: Azure OpenAI Endpoint should be in the form: \\n\\n\\t<your unique endpoint identifier>.openai.azure.com\"\n",
        "openai.api_base = RESOURCE_ENDPOINT\n",
        "deployment = os.environ['AZURE_OPENAI_DEPLOYMENT'] # replace with your deployment name\n",
        "print(deployment)\n",
        "\n",
        "client = AzureOpenAI(\n",
        "    api_key=API_KEY,  # Use the variable instead of accessing os.environ again\n",
        "    azure_endpoint=RESOURCE_ENDPOINT,\n",
        "    api_version = \"2024-08-01-preview\"\n",
        "  )"
      ]
    },
    {
      "attachments": {},
      "cell_type": "markdown",
      "metadata": {
        "nteract": {
          "transient": {
            "deleting": false
          }
        }
      },
      "source": [
        "### 3. Finding the right model  \n",
        "The GPT-3.5-turbo or GPT-4 models can understand and generate natural language. The service offers four model capabilities, each with different levels of power and speed suitable for different tasks. \n",
        "\n",
        "[Azure OpenAI models](https://learn.microsoft.com/azure/cognitive-services/openai/concepts/models?WT.mc_id=academic-105485-koreyst)\n"
      ]
    },
    {
      "cell_type": "code",
      "execution_count": 19,
      "metadata": {
        "gather": {
          "logged": 1674742720788
        },
        "jupyter": {
          "outputs_hidden": true,
          "source_hidden": false
        },
        "nteract": {
          "transient": {
            "deleting": false
          }
        }
      },
      "outputs": [
        {
          "name": "stdout",
          "output_type": "stream",
          "text": [
            "gpt4mdam\n"
          ]
        }
      ],
      "source": [
        "# Select the General Purpose curie model for text\n",
        "#model = os.environ['AZURE_OPENAI_DEPLOYMENT']\n",
        "model = os.environ['AZURE_OPENAI_DEPLOYMENT'] # replace with your deployment name\n",
        "print(model)"
      ]
    },
    {
      "attachments": {},
      "cell_type": "markdown",
      "metadata": {
        "nteract": {
          "transient": {
            "deleting": false
          }
        }
      },
      "source": [
        "## 4. Prompt Design  \n",
        "\n",
        "\"The magic of large language models is that by being trained to minimize this prediction error over vast quantities of text, the models end up learning concepts useful for these predictions. For example, they learn concepts like\"(1):\n",
        "\n",
        "* how to spell\n",
        "* how grammar works\n",
        "* how to paraphrase\n",
        "* how to answer questions\n",
        "* how to hold a conversation\n",
        "* how to write in many languages\n",
        "* how to code\n",
        "* etc.\n",
        "\n",
        "#### How to control a large language model  \n",
        "\"Of all the inputs to a large language model, by far the most influential is the text prompt(1).\n",
        "\n",
        "Large language models can be prompted to produce output in a few ways:\n",
        "\n",
        "- Instruction: Tell the model what you want\n",
        "- Completion: Induce the model to complete the beginning of what you want\n",
        "- Demonstration: Show the model what you want, with either:\n",
        "- A few examples in the prompt\n",
        "- Many hundreds or thousands of examples in a fine-tuning training dataset\n",
        "\n",
        "\n",
        "\n",
        "#### There are three basic guidelines to creating prompts:\n",
        "\n",
        "**Show and tell**. Make it clear what you want either through instructions, examples, or a combination of the two. If you want the model to rank a list of items in alphabetical order or to classify a paragraph by sentiment, show it that's what you want.\n",
        "\n",
        "**Provide quality data**. If you're trying to build a classifier or get the model to follow a pattern, make sure that there are enough examples. Be sure to proofread your examples — the model is usually smart enough to see through basic spelling mistakes and give you a response, but it also might assume this is intentional and it can affect the response.\n",
        "\n",
        "**Check your settings.** The temperature and top_p settings control how deterministic the model is in generating a response. If you're asking it for a response where there's only one right answer, then you'd want to set these lower. If you're looking for more diverse responses, then you might want to set them higher. The number one mistake people make with these settings is assuming that they're \"cleverness\" or \"creativity\" controls.\n",
        "\n",
        "\n",
        "Source: https://github.com/Azure/OpenAI/blob/main/How%20to/Completions.md"
      ]
    },
    {
      "attachments": {},
      "cell_type": "markdown",
      "metadata": {
        "nteract": {
          "transient": {
            "deleting": false
          }
        }
      },
      "source": [
        "image is creating your first text prompt!"
      ]
    },
    {
      "attachments": {},
      "cell_type": "markdown",
      "metadata": {
        "nteract": {
          "transient": {
            "deleting": false
          }
        }
      },
      "source": [
        "### 5. Submit!"
      ]
    },
    {
      "cell_type": "code",
      "execution_count": 26,
      "metadata": {
        "gather": {
          "logged": 1674494935186
        },
        "jupyter": {
          "outputs_hidden": false,
          "source_hidden": false
        },
        "nteract": {
          "transient": {
            "deleting": false
          }
        }
      },
      "outputs": [
        {
          "data": {
            "text/plain": [
              "'The use of the Oxford comma, also known as the serial comma, is largely a matter of style and preference, and whether it should always be used depends on the style guide you are following. \\n\\n1. **Support for Oxford Comma**: Proponents argue that it helps to avoid ambiguity in lists. For example, in the phrase \"I love my parents, Oprah Winfrey, and God,\" the Oxford comma clarifies that the speaker is referring to three separate entities, not two parents who include Oprah Winfrey. \\n\\n2. **Against Oxford Comma**: Some style guides, like the Associated Press (AP) style, do not require the Oxford comma and instead recommend omitting it unless it helps prevent confusion.\\n\\nIn summary, whether to always use the Oxford comma depends on your audience and the style guide you’re following. If you are writing in a context that favors it, such as with academic or some literary styles (like the Chicago Manual of Style), then it\\'s advisable to use it consistently. If you are following the AP style, you would typically omit it unless needed for clarity.'"
            ]
          },
          "execution_count": 26,
          "metadata": {},
          "output_type": "execute_result"
        }
      ],
      "source": [
        "\n",
        "\n",
        "# Create your first prompt\n",
        "text_prompt = \"Should oxford commas always be used?\"\n",
        "\n",
        "response = client.chat.completions.create(\n",
        "  model=model,\n",
        "  messages = [{\"role\":\"system\", \"content\":\"You are a helpful assistant.\"},\n",
        "               {\"role\":\"user\",\"content\":text_prompt},])\n",
        "\n",
        "response.choices[0].message.content"
      ]
    },
    {
      "attachments": {},
      "cell_type": "markdown",
      "metadata": {
        "nteract": {
          "transient": {
            "deleting": false
          }
        }
      },
      "source": [
        "### Repeat the same call, how do the results compare?"
      ]
    },
    {
      "cell_type": "code",
      "execution_count": 27,
      "metadata": {
        "gather": {
          "logged": 1674494940872
        },
        "jupyter": {
          "outputs_hidden": false,
          "source_hidden": false
        },
        "nteract": {
          "transient": {
            "deleting": false
          }
        }
      },
      "outputs": [
        {
          "data": {
            "text/plain": [
              "'The use of the Oxford comma (also known as the serial comma) is largely a matter of style and personal preference, and it is not an absolute rule. The Oxford comma is the final comma in a list of three or more items, placed before the conjunction (usually \"and\" or \"or\"). For example, in the list \"apples, oranges, and bananas,\" the comma after \"oranges\" is the Oxford comma.\\n\\nHere are some points to consider regarding the use of the Oxford comma:\\n\\n1. **Clarity**: The Oxford comma can help clarify the meaning of a sentence. For example, \"I love my parents, Lady Gaga and Bruce Springsteen\" could suggest that your parents are Lady Gaga and Bruce Springsteen without the Oxford comma. Adding the Oxford comma—\"I love my parents, Lady Gaga, and Bruce Springsteen\"—makes it clear that they are separate entities.\\n\\n2. **Style Guides**: Different style guides have different preferences. The Chicago Manual of Style and the Oxford Style Manual advocate for the use of the Oxford comma, while the Associated Press (AP) style does not typically recommend it.\\n\\n3. **Consistency**: If you choose to use the Oxford comma, it\\'s important to be consistent throughout your writing. If you decide against it, maintain that choice consistently as well.\\n\\n4. **Professional Context**: In some professional or academic contexts, following a specific style guide may be required. Be sure to adhere to any guidelines provided in those situations.\\n\\nIn summary, while the Oxford comma is not universally required, it can enhance clarity in writing, and its use is encouraged in certain style guides. Ultimately, the decision should be guided by the context in which you are writing and your audience\\'s preferences.'"
            ]
          },
          "execution_count": 27,
          "metadata": {},
          "output_type": "execute_result"
        }
      ],
      "source": [
        "\n",
        "response = client.chat.completions.create(\n",
        "  model=model,\n",
        "  messages = [{\"role\":\"system\", \"content\":\"You are a helpful assistant.\"},\n",
        "               {\"role\":\"user\",\"content\":text_prompt},])\n",
        "\n",
        "response.choices[0].message.content"
      ]
    },
    {
      "attachments": {},
      "cell_type": "markdown",
      "metadata": {
        "nteract": {
          "transient": {
            "deleting": false
          }
        }
      },
      "source": [
        "## Summarize Text  \n",
        "#### Challenge  \n",
        "Summarize text by adding a 'tl;dr:' to the end of a text passage. Notice how the model understands how to perform a number of tasks with no additional instructions. You can experiment with more descriptive prompts than tl;dr to modify the model’s behavior and customize the summarization you receive(3).  \n",
        "\n",
        "Recent work has demonstrated substantial gains on many NLP tasks and benchmarks by pre-training on a large corpus of text followed by fine-tuning on a specific task. While typically task-agnostic in architecture, this method still requires task-specific fine-tuning datasets of thousands or tens of thousands of examples. By contrast, humans can generally perform a new language task from only a few examples or from simple instructions - something that current NLP systems still largely struggle to do. Here we show that scaling up language models greatly improves task-agnostic, few-shot performance, sometimes even reaching competitiveness with prior state-of-the-art fine-tuning approaches. \n",
        "\n",
        "\n",
        "\n",
        "Tl;dr"
      ]
    },
    {
      "attachments": {},
      "cell_type": "markdown",
      "metadata": {
        "nteract": {
          "transient": {
            "deleting": false
          }
        }
      },
      "source": [
        "# Exercises for several use cases  \n",
        "1. Summarize Text  \n",
        "2. Classify Text  \n",
        "3. Generate New Product Names\n",
        "4. Embeddings\n",
        "5. Fine tune a classifier"
      ]
    },
    {
      "cell_type": "code",
      "execution_count": 28,
      "metadata": {
        "gather": {
          "logged": 1674495198534
        },
        "jupyter": {
          "outputs_hidden": false,
          "source_hidden": false
        },
        "nteract": {
          "transient": {
            "deleting": false
          }
        }
      },
      "outputs": [],
      "source": [
        "prompt = \"Recent work has demonstrated substantial gains on many NLP tasks and benchmarks by pre-training on a large corpus of text followed by fine-tuning on a specific task. While typically task-agnostic in architecture, this method still requires task-specific fine-tuning datasets of thousands or tens of thousands of examples. By contrast, humans can generally perform a new language task from only a few examples or from simple instructions - something that current NLP systems still largely struggle to do. Here we show that scaling up language models greatly improves task-agnostic, few-shot performance, sometimes even reaching competitiveness with prior state-of-the-art fine-tuning approaches.\\n\\ntl;dr\"\n"
      ]
    },
    {
      "cell_type": "code",
      "execution_count": 29,
      "metadata": {
        "gather": {
          "logged": 1674495201868
        },
        "jupyter": {
          "outputs_hidden": false,
          "source_hidden": false
        },
        "nteract": {
          "transient": {
            "deleting": false
          }
        }
      },
      "outputs": [
        {
          "data": {
            "text/plain": [
              "'Scaling up language models enhances their few-shot performance on various NLP tasks, allowing them to compete with traditional fine-tuning methods, which typically require large task-specific datasets.'"
            ]
          },
          "execution_count": 29,
          "metadata": {},
          "output_type": "execute_result"
        }
      ],
      "source": [
        "#Setting a few additional, typical parameters during API Call\n",
        "\n",
        "response = client.chat.completions.create(\n",
        "  model=model,\n",
        "  messages = [{\"role\":\"system\", \"content\":\"You are a helpful assistant.\"},\n",
        "               {\"role\":\"user\",\"content\":prompt},])\n",
        "\n",
        "response.choices[0].message.content"
      ]
    },
    {
      "attachments": {},
      "cell_type": "markdown",
      "metadata": {
        "nteract": {
          "transient": {
            "deleting": false
          }
        }
      },
      "source": [
        "## Classify Text  \n",
        "#### Challenge  \n",
        "Classify items into categories provided at inference time. In the following example, we provide both the categories and the text to classify in the prompt(*playground_reference). \n",
        "\n",
        "Customer Inquiry: Hello, one of the keys on my laptop keyboard broke recently and I'll need a replacement:\n",
        "\n",
        "Classified category:\n"
      ]
    },
    {
      "cell_type": "code",
      "execution_count": 30,
      "metadata": {
        "gather": {
          "logged": 1674499424645
        },
        "jupyter": {
          "outputs_hidden": false,
          "source_hidden": false
        },
        "nteract": {
          "transient": {
            "deleting": false
          }
        }
      },
      "outputs": [
        {
          "name": "stdout",
          "output_type": "stream",
          "text": [
            "Classify the following inquiry into one of the following: categories: [Pricing, Hardware Support, Software Support]\n",
            "\n",
            "inquiry: Hello, one of the keys on my laptop keyboard broke recently and I'll need a replacement:\n",
            "\n",
            "Classified category:\n"
          ]
        }
      ],
      "source": [
        "prompt = \"Classify the following inquiry into one of the following: categories: [Pricing, Hardware Support, Software Support]\\n\\ninquiry: Hello, one of the keys on my laptop keyboard broke recently and I'll need a replacement:\\n\\nClassified category:\"\n",
        "print(prompt)"
      ]
    },
    {
      "cell_type": "code",
      "execution_count": 31,
      "metadata": {
        "gather": {
          "logged": 1674499378518
        },
        "jupyter": {
          "outputs_hidden": false,
          "source_hidden": false
        },
        "nteract": {
          "transient": {
            "deleting": false
          }
        }
      },
      "outputs": [
        {
          "data": {
            "text/plain": [
              "'Classified category: Hardware Support'"
            ]
          },
          "execution_count": 31,
          "metadata": {},
          "output_type": "execute_result"
        }
      ],
      "source": [
        "#Setting a few additional, typical parameters during API Call\n",
        "\n",
        "response = client.chat.completions.create(\n",
        "  model=model,\n",
        "  messages = [{\"role\":\"system\", \"content\":\"You are a helpful assistant.\"},\n",
        "               {\"role\":\"user\",\"content\":prompt},])\n",
        "\n",
        "response.choices[0].message.content"
      ]
    },
    {
      "attachments": {},
      "cell_type": "markdown",
      "metadata": {
        "nteract": {
          "transient": {
            "deleting": false
          }
        }
      },
      "source": [
        "## Generate New Product Names\n",
        "#### Challenge\n",
        "Create product names from examples words. Here we include in the prompt information about the product we are going to generate names for. We also provide a similar example to show the pattern we wish to receive. We have also set the temperature value high to increase randomness and more innovative responses.\n",
        "\n",
        "Product description: A home milkshake maker\n",
        "Seed words: fast, healthy, compact.\n",
        "Product names: HomeShaker, Fit Shaker, QuickShake, Shake Maker\n",
        "\n",
        "Product description: A pair of shoes that can fit any foot size.\n",
        "Seed words: adaptable, fit, omni-fit."
      ]
    },
    {
      "cell_type": "code",
      "execution_count": 32,
      "metadata": {
        "gather": {
          "logged": 1674257087279
        },
        "jupyter": {
          "outputs_hidden": false,
          "source_hidden": false
        },
        "nteract": {
          "transient": {
            "deleting": false
          }
        }
      },
      "outputs": [
        {
          "name": "stdout",
          "output_type": "stream",
          "text": [
            "Product description: A home milkshake maker\n",
            "Seed words: fast, healthy, compact.\n",
            "Product names: HomeShaker, Fit Shaker, QuickShake, Shake Maker\n",
            "\n",
            "Product description: A pair of shoes that can fit any foot size.\n",
            "Seed words: adaptable, fit, omni-fit.\n"
          ]
        }
      ],
      "source": [
        "prompt = \"Product description: A home milkshake maker\\nSeed words: fast, healthy, compact.\\nProduct names: HomeShaker, Fit Shaker, QuickShake, Shake Maker\\n\\nProduct description: A pair of shoes that can fit any foot size.\\nSeed words: adaptable, fit, omni-fit.\"\n",
        "\n",
        "print(prompt)"
      ]
    },
    {
      "cell_type": "code",
      "execution_count": 33,
      "metadata": {
        "jupyter": {
          "outputs_hidden": false,
          "source_hidden": false
        },
        "nteract": {
          "transient": {
            "deleting": false
          }
        }
      },
      "outputs": [
        {
          "data": {
            "text/plain": [
              "'Here are some product names based on your seed words for the adaptable shoes:\\n\\n1. OmniFit Shoes\\n2. FlexiFit Sneakers\\n3. Adapt-A-Shoe\\n4. FitAll Footwear\\n5. SizeFlex Shoes\\n6. VersatileStep\\n7. CustomCushion\\n8. OneSizeStride\\n9. FitMatic Shoes\\n10. ShapeShift Sneakers\\n\\nLet me know if you need more options or anything else!'"
            ]
          },
          "execution_count": 33,
          "metadata": {},
          "output_type": "execute_result"
        }
      ],
      "source": [
        "#Setting a few additional, typical parameters during API Call\n",
        "\n",
        "response = client.chat.completions.create(\n",
        "  model=model,\n",
        "  messages = [{\"role\":\"system\", \"content\":\"You are a helpful assistant.\"},\n",
        "               {\"role\":\"user\",\"content\":prompt}])\n",
        "\n",
        "response.choices[0].message.content"
      ]
    },
    {
      "attachments": {},
      "cell_type": "markdown",
      "metadata": {
        "nteract": {
          "transient": {
            "deleting": false
          }
        }
      },
      "source": [
        "## Embeddings\n",
        "This section will show how to retrieve embeddings, and find similarities between words, sentences, and documents. In order to run the following noteboooks you need to deploy a model that uses `text-embedding-ada-002` as base model and set his deployment name inside .env file, using the `AZURE_OPENAI_EMBEDDINGS_DEPLOYMENT` variable."
      ]
    },
    {
      "attachments": {},
      "cell_type": "markdown",
      "metadata": {
        "nteract": {
          "transient": {
            "deleting": false
          }
        }
      },
      "source": [
        "### Model Taxonomy - Choosing an embedding model\n",
        "\n",
        "**Model taxonomy**: {family} - {capability} - {input-type} - {identifier}  \n",
        "\n",
        "{family}     --> text-embedding  (embeddings family)  \n",
        "{capability} --> ada             (all the other embedding models will be retired in 2024)  \n",
        "{input-type} --> n/a             (only specified for search models)  \n",
        "{identifier} --> 002             (version 002)  \n",
        "\n",
        "model = 'text-embedding-ada-002'"
      ]
    },
    {
      "cell_type": "markdown",
      "metadata": {},
      "source": [
        "  > [!NOTE] The following step is not necessary if run this notebook on Codespaces or within a Devcontainer"
      ]
    },
    {
      "cell_type": "code",
      "execution_count": 41,
      "metadata": {},
      "outputs": [
        {
          "name": "stdout",
          "output_type": "stream",
          "text": [
            "Requirement already satisfied: matplotlib in /home/codespace/.local/lib/python3.12/site-packages (3.9.3)\n",
            "Requirement already satisfied: plotly in /home/codespace/.local/lib/python3.12/site-packages (5.24.1)\n",
            "Requirement already satisfied: scikit-learn in /home/codespace/.local/lib/python3.12/site-packages (1.6.0)\n",
            "Requirement already satisfied: pandas in /home/codespace/.local/lib/python3.12/site-packages (2.2.3)\n",
            "Requirement already satisfied: contourpy>=1.0.1 in /home/codespace/.local/lib/python3.12/site-packages (from matplotlib) (1.3.1)\n",
            "Requirement already satisfied: cycler>=0.10 in /home/codespace/.local/lib/python3.12/site-packages (from matplotlib) (0.12.1)\n",
            "Requirement already satisfied: fonttools>=4.22.0 in /home/codespace/.local/lib/python3.12/site-packages (from matplotlib) (4.55.3)\n",
            "Requirement already satisfied: kiwisolver>=1.3.1 in /home/codespace/.local/lib/python3.12/site-packages (from matplotlib) (1.4.7)\n",
            "Requirement already satisfied: numpy>=1.23 in /home/codespace/.local/lib/python3.12/site-packages (from matplotlib) (2.2.0)\n",
            "Requirement already satisfied: packaging>=20.0 in /home/codespace/.local/lib/python3.12/site-packages (from matplotlib) (24.2)\n",
            "Requirement already satisfied: pillow>=8 in /home/codespace/.local/lib/python3.12/site-packages (from matplotlib) (11.0.0)\n",
            "Requirement already satisfied: pyparsing>=2.3.1 in /home/codespace/.local/lib/python3.12/site-packages (from matplotlib) (3.2.0)\n",
            "Requirement already satisfied: python-dateutil>=2.7 in /home/codespace/.local/lib/python3.12/site-packages (from matplotlib) (2.9.0.post0)\n",
            "Requirement already satisfied: tenacity>=6.2.0 in /home/codespace/.local/lib/python3.12/site-packages (from plotly) (9.0.0)\n",
            "Requirement already satisfied: scipy>=1.6.0 in /home/codespace/.local/lib/python3.12/site-packages (from scikit-learn) (1.14.1)\n",
            "Requirement already satisfied: joblib>=1.2.0 in /home/codespace/.local/lib/python3.12/site-packages (from scikit-learn) (1.4.2)\n",
            "Requirement already satisfied: threadpoolctl>=3.1.0 in /home/codespace/.local/lib/python3.12/site-packages (from scikit-learn) (3.5.0)\n",
            "Requirement already satisfied: pytz>=2020.1 in /home/codespace/.local/lib/python3.12/site-packages (from pandas) (2024.2)\n",
            "Requirement already satisfied: tzdata>=2022.7 in /home/codespace/.local/lib/python3.12/site-packages (from pandas) (2024.2)\n",
            "Requirement already satisfied: six>=1.5 in /home/codespace/.local/lib/python3.12/site-packages (from python-dateutil>=2.7->matplotlib) (1.17.0)\n",
            "Note: you may need to restart the kernel to use updated packages.\n"
          ]
        }
      ],
      "source": [
        "# Dependencies for embeddings_utils\n",
        "%pip install matplotlib plotly scikit-learn pandas"
      ]
    },
    {
      "cell_type": "code",
      "execution_count": 44,
      "metadata": {
        "gather": {
          "logged": 1674829364153
        },
        "jupyter": {
          "outputs_hidden": false,
          "source_hidden": false
        },
        "nteract": {
          "transient": {
            "deleting": false
          }
        }
      },
      "outputs": [],
      "source": [
        "def cosine_similarity(a, b):\n",
        "    return np.dot(a, b) / (np.linalg.norm(a) * np.linalg.norm(b))"
      ]
    },
    {
      "cell_type": "code",
      "execution_count": 52,
      "metadata": {
        "gather": {
          "logged": 1674829424097
        },
        "jupyter": {
          "outputs_hidden": false,
          "source_hidden": false
        },
        "nteract": {
          "transient": {
            "deleting": false
          }
        }
      },
      "outputs": [
        {
          "name": "stdout",
          "output_type": "stream",
          "text": [
            "[-0.0046152775175869465, 0.009807861410081387, -0.015035336837172508, -0.00635036826133728, -0.011387523263692856, 0.015568234957754612, -0.024145355448126793, -0.0158600602298975, -0.015923500061035156, -0.029512399807572365, 0.02156968228518963, 0.02121441625058651, 0.018930567428469658, 0.004018939100205898, -0.0006974461721256375, -0.007644549012184143, 0.024906639009714127, -0.004215604159981012, 0.011089353822171688, -0.008577120490372181, -0.008983138017356396, 0.02122710458934307, -0.006413808558136225, -0.008532712236046791, 0.006416980642825365, 0.013208257965743542, 0.007524012587964535, -0.0032576564699411392, -0.009040234610438347, 0.0014020293019711971, 0.00668660132214427, 0.003920606803148985, -0.039409078657627106, -0.0026660761795938015, -0.012751488946378231, -0.021645810455083847, -0.0037651783786714077, -0.010486671701073647, 0.026238882914185524, -0.04544859007000923, 0.00947162788361311, 0.01566973887383938, -0.0224832221865654, -0.01119720283895731, -0.002677178243175149, 0.011945797130465508, 0.009953773580491543, -0.012269342318177223, -0.02277504652738571, 0.010309039615094662, -0.0005515335942618549, 0.006572409067302942, -0.009547756053507328, -0.011565156280994415, -0.004415440838783979, -0.007200467400252819, -0.0015931430971249938, -0.006223487667739391, 0.009173458442091942, -0.005582741461694241, 0.01110204216092825, 0.013588899746537209, -0.005414624698460102, -0.005833330098539591, 0.0007747639319859445, -0.009351091459393501, 0.01105763390660286, -0.010759465396404266, -0.013094065710902214, -0.005138659384101629, 0.029588527977466583, -0.0017398486379534006, 8.143149898387492e-05, 0.005896770395338535, 0.03146636113524437, -0.008856257423758507, -0.027456937357783318, 0.008957762271165848, 0.01437555905431509, 0.011463651433587074, 0.02974078431725502, -0.04222582280635834, -0.006128327455371618, 0.01427405420690775, 0.017611011862754822, 0.002988035324960947, -0.025718674063682556, 0.03770887851715088, -0.01678628847002983, 0.011305050924420357, 0.0055129569955170155, 0.030578196048736572, 0.008285295218229294, -0.0055954293347895145, -0.016925856471061707, 0.006769073661416769, -0.0007160817040130496, 0.018917879089713097, -0.01020753476768732, -0.025769425556063652, 0.006864234339445829, -0.011546123772859573, -0.02702554315328598, -0.002705726306885481, 0.006578753236681223, -0.02712704800069332, -0.0052591958083212376, 0.02212795615196228, 0.01796627603471279, -0.014134486205875874, 0.016215326264500618, 0.023625146597623825, 0.017801331356167793, -0.039941977709531784, -0.004015767481178045, -0.011469995602965355, 0.009839581325650215, -0.00965560507029295, -0.009135394357144833, -0.009033890441060066, 0.009414532221853733, 0.017839396372437477, 0.02212795615196228, -0.002654974116012454, -0.014210614375770092, -0.010372479446232319, -0.004006251227110624, 0.007384444121271372, -0.010905377566814423, 0.003470181254670024, 0.032608285546302795, 0.023802777752280235, 0.03309043124318123, -0.012396222911775112, -0.03679534047842026, 0.02339676022529602, 0.0050593591295182705, -0.011089353822171688, -0.03055281937122345, -0.022533973678946495, -0.0015709389699622989, 0.016367582604289055, -0.006673913449048996, 0.008723033592104912, 0.022470533847808838, 0.023713963106274605, 0.02140473760664463, 0.008583464659750462, -0.002150624291971326, -0.0065153129398822784, 0.018296165391802788, -0.002030087634921074, 0.02984228916466236, 0.00042425660649314523, 0.009630228392779827, 0.015657052397727966, 0.003758834209293127, 0.014400934800505638, -0.028091339394450188, -0.021836131811141968, 0.024145355448126793, 0.021785378456115723, -0.00025118369376286864, -0.008266263641417027, 0.0020364318042993546, 0.03146636113524437, 0.03298892453312874, 0.003092711791396141, 0.008196479640901089, -0.010328071191906929, 0.004881726577877998, 0.03281129151582718, -0.011501715518534184, 0.03760737553238869, 0.002126834122464061, 0.0067056333646178246, 0.02158237062394619, -0.0074859485030174255, -0.03230376914143562, 0.0016764083411544561, 0.0039618429727852345, 0.01414717361330986, 0.038850802928209305, 0.02386621944606304, 0.00505618704482913, 0.02221677266061306, 0.005547848995774984, -0.027507688850164413, -0.007479604333639145, -0.0009944257326424122, 0.009211523458361626, 0.001749364659190178, -0.018575303256511688, -0.013525459915399551, -0.6857636570930481, -0.029893042519688606, 0.003863510675728321, -0.010562799870967865, 0.021836131811141968, 0.034054722636938095, -0.012117085978388786, -0.010638928040862083, -0.00045795924961566925, 0.035780295729637146, -0.030324434861540794, 0.002107802079990506, 0.004700921941548586, -0.0030197554733604193, -0.009712700732052326, -0.0034130848944187164, 0.02730467915534973, -0.02274966984987259, -0.008215511217713356, 0.020833775401115417, 0.004545493517071009, 0.0069276741705834866, -0.010721400380134583, 0.00197140546515584, -0.00509742321446538, 0.011476339772343636, -0.00220930646173656, 0.005519301164895296, -0.0013972712913528085, 0.017281122505664825, -0.002001539571210742, 0.018714871257543564, -0.006566064897924662, 0.0053955926559865475, 0.04283485189080238, 0.004523289389908314, -0.00600779103115201, 0.020618079230189323, 0.040043480694293976, 0.05369582027196884, -0.035678792744874954, -0.013436643406748772, 0.014616631902754307, 0.008856257423758507, -0.011431931518018246, 0.0012188456021249294, 0.02531265653669834, 0.017103489488363266, -0.005392420571297407, -0.015809308737516403, 0.014071045443415642, 0.017801331356167793, 0.016101133078336716, 0.005008607171475887, -0.018346916884183884, 0.02684791013598442, 0.01084193680435419, -0.0002571312361396849, -0.0016795804258435965, -0.002469411352649331, -0.010962474159896374, 0.001914309337735176, -0.010315382853150368, 0.008818193338811398, -0.022648166865110397, 0.003879370866343379, -0.0071687474846839905, 0.010023558512330055, 0.02212795615196228, -0.0144136231392622, 0.02257203869521618, 0.01985679566860199, -0.010480327531695366, 0.010042590089142323, 0.014565879479050636, 0.010740432888269424, 0.008983138017356396, -0.006410636473447084, -0.01169838011264801, 0.006464560516178608, -0.012282030656933784, -0.002735860412940383, -0.03945982828736305, -0.0013512771110981703, 0.03603405877947807, 0.01712886430323124, -0.0351712703704834, -0.006312304176390171, -0.00509742321446538, -0.024259548634290695, 0.016900479793548584, 0.02439911663532257, -0.031796250492334366, -0.0008374112076126039, -0.012459663674235344, 0.008221855387091637, -0.005858706310391426, 0.038774676620960236, 0.04113465175032616, -0.032608285546302795, 0.012142462655901909, -0.0016653063939884305, -0.0035336215514689684, -0.004095067735761404, 0.014121797867119312, 0.030628949403762817, 0.016824351623654366, 0.0016415162244811654, 0.01740800216794014, -0.010911721736192703, -0.00870400108397007, -0.017534881830215454, 0.01721768081188202, 0.00514500355347991, -0.006572409067302942, -0.024906639009714127, 0.015631675720214844, -0.0048373183235526085, 0.015517483465373516, -0.019793355837464333, 0.009357435628771782, -0.011685692705214024, 0.008780129253864288, -0.000971428700722754, 0.0076128290966153145, 0.0019095512107014656, -0.02674640528857708, -0.029537776485085487, -0.01624070107936859, -0.004913446493446827, -0.007105307187885046, 0.020351629704236984, 0.03552653640508652, -0.002068151952698827, -0.003240210236981511, -0.00446302117779851, 0.014083733782172203, 0.0059697264805436134, 0.018626054748892784, -0.01603769324719906, -0.031491734087467194, 0.009249587543308735, -0.014362870715558529, -0.01360158808529377, 0.007682613097131252, -0.019996363669633865, -0.02584555372595787, 0.004634309560060501, 0.006604128982871771, 0.03001992218196392, -0.012186869978904724, -0.023422136902809143, -0.012434286996722221, -0.015377914533019066, 0.023066870868206024, -0.005160863511264324, -0.03237989917397499, -0.004428128711879253, -0.004504257347434759, -0.02837047539651394, 0.027685321867465973, 0.014172550290822983, -0.006242519710212946, -0.004263184033334255, 0.010575488209724426, -0.03506976366043091, 0.003165668109431863, 0.023054184392094612, -0.024919327348470688, -0.02712704800069332, -0.004913446493446827, -0.02267354167997837, -0.006359884049743414, -0.0013457260793074965, -0.017268434166908264, 0.011704724282026291, -0.027228550985455513, -0.024462556466460228, -0.002049119910225272, -0.010543768294155598, -0.004539149347692728, 0.01905744895339012, 0.006442356389015913, -0.022635478526353836, 0.015479418449103832, -0.005179895553737879, 0.024525998160243034, 0.01264998409897089, -0.02395503595471382, -0.010264631360769272, 0.02120172791182995, 0.027228550985455513, 0.012954497709870338, -0.01351277157664299, -0.005570053122937679, -0.020199373364448547, 0.005598601419478655, 0.03012142702937126, 0.01492114458233118, 0.009306683205068111, 0.01632951758801937, -0.007701645139604807, 0.007517668418586254, -0.026949414983391762, 0.021912259981036186, -0.03184700012207031, -0.0017366765532642603, -0.0038539946544915438, 0.006207627709954977, 2.276166560477577e-05, -0.020009052008390427, 1.185167820949573e-05, 0.019628411158919334, -0.038952309638261795, 0.017204994335770607, 0.02395503595471382, -0.012307406403124332, 0.022445157170295715, 0.008773785084486008, -0.01278955303132534, 0.002838950837031007, -0.02068151906132698, 0.015631675720214844, -0.00523382006213069, 0.0222040843218565, 0.02467825450003147, 0.00875475350767374, 0.0156951155513525, 0.0016351721715182066, -0.004123615566641092, -0.023409448564052582, 0.0033496448304504156, 0.017154240980744362, 0.01658327877521515, 0.0085707763209939, 0.0006907056085765362, 0.007003802806138992, -0.010880001820623875, 0.014451687224209309, -0.0013147989520803094, 0.017890147864818573, -0.0071814353577792645, 0.00784755777567625, -0.014248678460717201, 0.011692036874592304, 0.011095697991549969, 0.02946164831519127, -0.005681073758751154, -0.01724305748939514, 0.0062964437529444695, -0.0020427757408469915, -0.0035209334455430508, -0.024881262332201004, 0.027913706377148628, 0.007428852375596762, -0.014946521259844303, 0.021074848249554634, 0.004961026832461357, 0.02920788712799549, 0.02522384002804756, 0.0041711959056556225, 0.0030895397067070007, 0.008976793847978115, 0.010270975530147552, 0.01885443925857544, -0.0005618426366709173, -0.006369400303810835, 0.013030625879764557, 0.013309762813150883, -0.020161308348178864, -0.02566792257130146, -0.005351184401661158, 0.0017065424472093582, -0.017839396372437477, 0.02050388604402542, 0.013119441457092762, -0.035501159727573395, 0.013994917273521423, 0.01877831108868122, 0.02030087634921074, -0.021924948319792747, -0.027279304340481758, -0.006185423582792282, 0.004234636202454567, 0.00398721918463707, 0.005319464020431042, -0.028065962716937065, -0.0006573994760401547, -0.0034511492121964693, 0.022533973678946495, -0.0001861574564827606, -0.004961026832461357, -0.00013233238132670522, -0.009706356562674046, -0.008691312745213509, -0.013588899746537209, 0.020009052008390427, -0.011235266923904419, 0.0005757202161476016, -0.028522731736302376, 0.008380455896258354, -0.0007061691721901298, -0.007219499442726374, -0.007365412078797817, 0.025883618742227554, -0.00035427408874966204, -0.013119441457092762, -0.0015772830229252577, -0.001289422856643796, 0.019260456785559654, -0.020161308348178864, -0.014438998885452747, -0.01750950701534748, 0.013677716255187988, 0.0023123968858271837, -0.00884357001632452, -0.020186685025691986, -0.011381179094314575, 0.02829434722661972, 0.010055278427898884, -0.013030625879764557, -0.015898125246167183, -0.006458216346800327, 0.022457845509052277, 0.08049298077821732, 0.020998720079660416, -0.018461110070347786, 0.013170193880796432, 0.01894325576722622, -0.02730467915534973, -0.022889239713549614, -0.006369400303810835, 0.028142090886831284, -0.018105844035744667, -0.0039269509725272655, -0.008989482186734676, 0.005516129080206156, -0.008006158284842968, 0.0239296592772007, -0.007581108715385199, 0.003619265742599964, -0.008596152998507023, 0.001638344256207347, 0.0018048748606815934, -0.0049324785359203815, -0.0036605019122362137, -9.461517038289458e-05, 0.012446975335478783, -0.014451687224209309, 0.0036827060393989086, -0.0025899477768689394, 0.016887791454792023, 0.02837047539651394, -0.029588527977466583, -0.0034321171697229147, 0.00798078253865242, 0.015644364058971405, 0.006680257618427277, 0.02120172791182995, 0.020719582214951515, -0.005084735341370106, 0.014667383395135403, 0.03281129151582718, -0.03154248744249344, 0.011730100959539413, 0.007543044630438089, 0.004409096669405699, 0.004605761729180813, 0.024284925311803818, 0.0002622857573442161, -0.01794089935719967, 0.016532527282834053, 0.0060395109467208385, -0.0296646561473608, 0.03636394813656807, -0.005287744104862213, -0.01028366293758154, 0.002195032313466072, 0.0060712313279509544, 0.025896307080984116, -0.01950152963399887, -0.004244151990860701, -0.013208257965743542, 0.0014710206305608153, -0.01033441536128521, -0.020085180178284645, -0.002930939197540283, -0.009452596306800842, -0.0015376328956335783, -0.025553729385137558, -0.011673004366457462, -0.008805505931377411, -0.0064835925586521626, -0.014933832921087742, -0.021455489099025726, -0.018524549901485443, -0.01877831108868122, -0.010010870173573494, 0.015238345600664616, 0.030222931876778603, 0.0103788236156106, -0.0014020293019711971, 0.004475709050893784, 0.010702368803322315, -0.01731918565928936, -0.016278766095638275, -0.0010079068597406149, -0.02611200325191021, 0.002415487077087164, 0.00970001332461834, 0.013398579321801662, -0.006455044727772474, 0.011850637383759022, 0.012066333554685116, 0.010803872719407082, 0.008545400574803352, -0.010810216888785362, 0.005846018437296152, 0.02267354167997837, -0.01114645041525364, 0.01242794282734394, 0.03456224501132965, 0.0191462654620409, -0.005585913080722094, 0.03291279822587967, -0.01704004965722561, 0.001068175071850419, 0.000574530684389174, 0.014642007648944855, -0.007606484927237034, 0.029867665842175484, 0.005030811298638582, -0.020173996686935425, -0.03293817490339279, 0.031694743782281876, -0.00552881695330143, 0.014565879479050636, 0.012459663674235344, 0.01092440914362669, 0.014984585344791412, 0.01578393206000328, 0.011374834924936295, -0.00015156270819716156, -0.009763453155755997, -0.00856443215161562, -0.021341297775506973, -0.001030903891660273, 0.02946164831519127, -0.025274591520428658, 0.021633122116327286, -0.004041143227368593, -0.015352538786828518, -0.0030308575369417667, 0.003375020809471607, 0.011806229129433632, 0.007067243102937937, 0.0015542858745902777, -0.009801517240703106, -0.04199744015932083, -0.01084193680435419, -0.0036795339547097683, 0.012383535504341125, -0.01351277157664299, 0.0012093295808881521, -0.031237974762916565, -0.008849913254380226, 0.012434286996722221, -0.04270797222852707, 0.01986948400735855, -0.025515664368867874, -0.0018508690409362316, -0.014426310546696186, -0.0023679069709032774, 0.013994917273521423, -0.01568242721259594, -0.010740432888269424, -0.024246860295534134, -0.016126509755849838, -0.002261644694954157, -0.03618631511926651, 0.007803149521350861, -0.0156951155513525, 0.04017036035656929, 0.017636386677622795, 0.030045298859477043, -0.0034130848944187164, 0.0048151141963899136, 0.024322988465428352, -0.02674640528857708, -0.003698565997183323, -0.0016573762986809015, -0.003179942024871707, -0.016189949586987495, -0.007035522721707821, 0.029588527977466583, 0.0058174701407551765, 0.026594148948788643, 0.018803687766194344, -0.017788643017411232, 0.011311395093798637, -0.0036953941453248262, 0.009433563798666, -0.012129774317145348, -0.016253389418125153, 0.020427757874131203, -0.0054907528683543205, 0.016304142773151398, -0.0072639076970517635, -0.008602497167885303, -0.004085551481693983, 0.010435919277369976, 0.03293817490339279, 0.03735361248254776, 0.0065153129398822784, 0.02202645130455494, 0.0008723033242858946, -0.004995918832719326, 0.0047199539840221405, -0.003314752597361803, -0.027177799493074417, -0.0018524550832808018, 0.010987849906086922, 0.006461388431489468, 0.026974789798259735, -0.0011665074853226542, 0.01624070107936859, -0.013144818134605885, 0.024145355448126793, -0.0038444786332547665, 0.005376560613512993, -0.011406555771827698, -0.012136118486523628, -0.0014337494503706694, -0.025870930403470993, -0.010740432888269424, -0.03481600433588028, -0.011520748026669025, -0.016849728301167488, 0.006077575031667948, 0.01966647431254387, -0.011799884960055351, 0.010822905227541924, -0.014464374631643295, -0.03755662217736244, -0.004291732329875231, 0.0014274053974077106, 0.045296333730220795, -0.010315382853150368, 0.00802519079297781, 0.0117427883669734, -0.00466920156031847, 0.0015178078319877386, 0.01615188457071781, 0.012630952522158623, 0.00514183146879077, -0.00048531783977523446, 0.01830885373055935, -0.008900665678083897, -0.004830974154174328, -0.019983675330877304, -0.008989482186734676, -0.024449868127703667, -0.010588176548480988, 0.027989834547042847, 0.0008524782606400549, -0.00017882218526210636, -0.008735720999538898, -0.017534881830215454, -0.0004873003636021167, 0.011032258160412312, -0.015162217430770397, -0.00600461894646287, -0.02420879527926445, -0.00018011081556323916, -0.042022816836833954, 0.009357435628771782, -0.01894325576722622, 0.0035399654880166054, -0.03075582906603813, -0.012726112268865108, 0.0072068115696311, 0.015555547550320625, -0.02755844034254551, -0.006267895922064781, -0.018994009122252464, 0.01264363992959261, -0.025071583688259125, -0.002328256843611598, 0.013322451151907444, 0.0026295979041606188, -0.022242149338126183, -0.02021206170320511, -0.0059348344802856445, 0.025261905044317245, -0.01427405420690775, -0.01667209528386593, -0.006026823073625565, 0.012529447674751282, 0.01712886430323124, -0.019793355837464333, 0.0005384490359574556, -0.028954125940799713, -0.00467237364500761, 0.015720492228865623, 0.02112559974193573, -0.0011228922521695495, -0.0041838837787508965, 0.007251219358295202, -0.009503347799181938, 0.002283848589286208, 0.0040347995236516, -0.014223301783204079, 0.009795173071324825, -0.019603034481406212, -0.0006090262904763222, -0.017027361318469048, -0.0015233587473630905, 0.0030054813250899315, 0.02077033556997776, 0.0002999533899128437, -0.006965738721191883, 0.02439911663532257, -0.028142090886831284, 0.017649075016379356, -0.03083195723593235, 0.006125155370682478, -0.024970078840851784, 0.007784117478877306, 0.01020753476768732, 0.00635036826133728, 0.0144136231392622, -0.020021740347146988, 0.0032798603642731905, -0.02503351867198944, -0.005351184401661158, -0.003619265742599964, 0.02283848635852337, -0.024373739957809448, 0.01105763390660286, 0.00034356856485828757, 0.01110838633030653, -0.031872376799583435, -0.007879277691245079, 0.03311580419540405, 0.0012362917186692357, 0.024805134162306786, 0.03583104908466339, -0.02458943799138069, 0.006978426594287157, 0.005636665504425764, 0.009649260900914669, 0.012262999080121517, -0.02239440567791462, -0.007790461648255587, -0.010321727022528648, 0.02857348509132862, 0.0037778664845973253, -0.01092440914362669, -0.011469995602965355, -0.003381364978849888, -0.01658327877521515, 0.015745867043733597, -0.023701274767518044, -0.003048303537070751, 0.018194660544395447, 0.0021157320588827133, -0.02702554315328598, 0.01107032224535942, -0.013436643406748772, -0.011996549554169178, -0.013576211407780647, -0.005084735341370106, -0.030502067878842354, -0.01966647431254387, -0.007790461648255587, 0.002493201522156596, 0.013829972594976425, -0.011666660197079182, -0.02538878470659256, -0.008945073932409286, -0.006661225575953722, -0.010137750767171383, 0.026594148948788643, 0.003847650717943907, 0.02121441625058651, -0.02276235818862915, 0.011298706755042076, 0.014350182376801968, -0.013309762813150883, 0.030146801844239235, -0.012973529286682606, -0.009725389070808887, -0.0066104731522500515, -0.002271160716190934, -0.0022299245465546846, -0.000904023414477706, -0.004811942111700773, -0.0103788236156106, 0.0048246304504573345, 0.021988388150930405, 0.010734088718891144, 0.01101956982165575, -0.008253575302660465, 6.408455374184996e-05, -0.0036668458487838507, -0.019260456785559654, 0.007530356757342815, -0.008520024828612804, 0.011330426670610905, -0.026822533458471298, -0.0112416110932827, 0.006692945491522551, -0.012117085978388786, -0.02628963626921177, -0.005750857759267092, 0.017750579863786697, -0.0058713941834867, 0.00957313273102045, -0.02211526781320572, -0.004995918832719326, -0.01088634505867958, -0.029766160994768143, 0.013791908510029316, -0.012903745286166668, 0.030070673674345016, 0.024970078840851784, -0.011806229129433632, -0.01024559885263443, 0.0009341575787402689, 0.0012545307399705052, -0.013779220171272755, -0.021734626963734627, 0.00711799506098032, -0.017369939014315605, -0.0014369214186444879, -0.029690032824873924, 0.0018746590940281749, -0.022876551374793053, 0.006826169788837433, -0.022001076489686966, -0.015504795126616955, -0.017204994335770607, 0.024779757484793663, -0.008640561252832413, -0.021150976419448853, -0.0023092248011380434, -0.022242149338126183, 0.00394281093031168, -0.0009872887749224901, -0.010397855192422867, 0.006921330466866493, 0.003955499269068241, -0.01823272556066513, -0.0068325139582157135, 4.004665242973715e-05, -0.023358697071671486, -0.013017937541007996, 0.015314474701881409, -0.006997458636760712, 0.021975699812173843, 0.2084900140762329, -0.0017826707335188985, 0.0050688753835856915, 0.03687146678566933, -0.010550112463533878, 0.030349811539053917, 0.021709250286221504, -0.0035494815092533827, -0.006718321703374386, 0.02575673721730709, -0.002483685500919819, 0.012967185117304325, -0.02150624245405197, 0.004618449602276087, 0.014603943563997746, 0.008735720999538898, -0.005179895553737879, -0.0025566418189555407, -0.014337494969367981, -0.03009605035185814, -0.014591255225241184, -0.00600779103115201, -0.026797158643603325, -0.004443989135324955, 0.010689680464565754, 0.01912088878452778, -0.007898310199379921, -0.0009555686265230179, 0.032785918563604355, 0.01849917508661747, -0.017369939014315605, -0.0026216679252684116, -0.011140106245875359, 0.02258472517132759, -0.014781576581299305, 0.00793637428432703, 0.016469087451696396, 0.01848648674786091, 0.012592887505888939, -0.003911091014742851, 0.020998720079660416, 0.0015186007367447019, -0.007308315951377153, -0.014730824157595634, 0.0021236620377749205, 0.025439536198973656, 0.017369939014315605, 0.0011141692521050572, -0.012237622402608395, 0.027812201529741287, -0.03352182358503342, 0.0009436735999770463, 0.011140106245875359, 0.030425939708948135, -0.0028563968371599913, 0.014819640666246414, 0.02320644073188305, 0.005646181292831898, 0.013132129795849323, 0.011653972789645195, 0.0058523621410131454, 0.035044390708208084, -0.02811671420931816, 0.00240438524633646, -0.008989482186734676, 0.010575488209724426, -0.010810216888785362, 0.0035463094245642424, -0.008177447132766247, 0.005325808189809322, -0.009541411884129047, -0.005693761631846428, -0.0013528631534427404, 0.005179895553737879, -0.003581201657652855, -0.03245602920651436, 0.012459663674235344, 0.01196482963860035, 0.006423324346542358, 0.018651431426405907, -0.01984410732984543, 0.015999628230929375, -0.008228199556469917, -0.021150976419448853, -0.014845016412436962, -0.016012316569685936, 0.009858613833785057, -0.004999090917408466, -0.031212598085403442, 0.007225843612104654, -8.400875958614051e-05, -0.032608285546302795, 0.004548665136098862, -0.0030134115368127823, -0.00019051897106692195, 0.001505912747234106, 0.0112416110932827, 0.028700364753603935, -0.0022426124196499586, -0.009186146780848503, -0.031415607780218124, -0.05394957959651947, 0.008602497167885303, 0.003984047099947929, 0.011603220365941525, -0.009903022088110447, 0.0053955926559865475, -0.002764408476650715, 0.001549527863971889, -0.010860969312489033, -0.0041711959056556225, 0.005449516698718071, 0.0036065776366740465, 0.006692945491522551, 0.011311395093798637, -0.007441540248692036, -0.0029245950281620026, -0.019603034481406212, -0.00961754098534584, -0.004155335947871208, 0.0072639076970517635, -0.0254902895539999, -0.023282568901777267, 0.011533435434103012, -0.0033242686185985804, -0.0204785093665123, 0.00441861292347312, 0.011901388876140118, -0.01197117380797863, -0.036490827798843384, 0.01658327877521515, -0.018968632444739342, 0.011863324791193008, -0.0007216327358037233, -0.006451872643083334, 0.005078391171991825, -0.010892689228057861, -0.014007605612277985, 0.007213155273348093, 0.018346916884183884, 0.010093342512845993, 0.0067373537458479404, -0.010600863955914974, 0.016392959281802177, 0.010619896464049816, -0.03202463313937187, 0.023155687376856804, -0.008678625337779522, -0.02357439324259758, -0.017534881830215454, -0.021455489099025726, 0.004313936457037926, -0.0053733885288238525, -0.0010182159021496773, 0.035957928746938705, -0.03737898916006088, -0.02293999120593071, -0.02811671420931816, 0.007993470877408981, 0.01346201915293932, -0.0400688573718071, -0.00801884662359953, 0.004009423311799765, -0.007790461648255587, -0.013994917273521423, -0.019564971327781677, -0.1614934802055359, -0.005249680019915104, 0.013944164849817753, 0.010442263446748257, -0.005554193165153265, -0.011990205384790897, 0.04859522357583046, -0.016519838944077492, -0.026518020778894424, -0.006315476261079311, 0.009839581325650215, 0.0017826707335188985, -0.04308861121535301, 0.00127514882478863, -0.01733187399804592, 0.003828618675470352, -0.030324434861540794, 0.013842660933732986, 0.013956853188574314, 0.0018445249879732728, 0.012396222911775112, -0.007517668418586254, 0.02277504652738571, -0.005509784910827875, 0.003470181254670024, 0.022533973678946495, -0.00879916176199913, 0.01020119059830904, -0.005106939468532801, -0.018613366410136223, -0.025528352707624435, -0.012770520523190498, -0.003454321064054966, -0.013893412426114082, 0.0036509858909994364, 0.006217143498361111, -0.008723033592104912, 0.00030788342701271176, -0.01922239363193512, 0.03009605035185814, 0.02401847578585148, 0.0455247163772583, 0.029893042519688606, 0.009966461919248104, -0.004919790662825108, 0.008678625337779522, -0.0012854578671976924, 0.017116177827119827, 0.0036827060393989086, -0.0012101226020604372, -0.016938544809818268, -0.012104397639632225, 0.022698918357491493, -0.00673100957646966, 0.006236175540834665, 0.0012045715702697635, -0.0055129569955170155, 0.015263722278177738, -0.010594520717859268, 0.008488303981721401, -0.01941271312534809, -0.02773607335984707, 0.0052813999354839325, 0.0036319538485258818, -0.038317907601594925, -0.013766532763838768, -0.023358697071671486, 0.026340387761592865, -0.03425772860646248, -0.011419243179261684, -0.0061790794134140015, -0.007086275145411491, 0.007714333478361368, 0.008285295218229294, -0.005538333207368851, 0.010594520717859268, -0.017788643017411232, 0.0023108108434826136, 0.001172058517113328, 0.002060221740975976, -0.005506612826138735, 0.01437555905431509, 0.00036160938907414675, -0.0034828693605959415, 0.006572409067302942, -0.00399356335401535, 0.0014860876835882664, -0.00012697960482910275, 0.001632000203244388, 0.008171102963387966, -0.005455860868096352, -0.050295423716306686, -0.0030197554733604193, -0.017065424472093582, 0.004821458365768194, 0.02503351867198944, 0.012091710232198238, 0.005696933716535568, 0.0023028808645904064, 0.00784755777567625, -0.023688586428761482, -0.01437555905431509, -0.024830510839819908, 0.0023536330554634333, 0.008323359303176403, 0.010397855192422867, 0.019526906311511993, 0.012878368608653545, 0.024056538939476013, -0.000257527717621997, -0.008259919472038746, 0.025376096367836, 0.008742065168917179, 0.028801869601011276, -0.0032735164277255535, -0.0006189388805069029, 0.007517668418586254, -0.003505073254927993, -0.0001923032250488177, -0.0005130729405209422, 0.06750041991472244, 0.006252035964280367, -0.025096960365772247, -0.00437420466914773, -0.0067373537458479404, 0.02603587508201599, -0.10647810250520706, -0.031212598085403442, 0.010543768294155598, 0.007175091188400984, -0.011489028111100197, 0.021150976419448853, -0.0049515110440552235, 0.0021775863133370876, 0.003930123057216406, 0.028421228751540184, 0.011311395093798637, 0.0004908688715659082, 0.005541505292057991, -0.026974789798259735, 0.03329343721270561, 0.006233003921806812, 0.027989834547042847, -0.006102951243519783, -0.01950152963399887, 0.019273145124316216, -0.006055370904505253, 0.0032449683640152216, 0.0012767348671332002, -0.022610101848840714, -0.023054184392094612, -0.0052687120623886585, -0.028268972411751747, 0.01015043817460537, -0.0015526999486610293, -0.004063347354531288, 0.014007605612277985, -0.012047301977872849, 0.0032798603642731905, -0.0025534697342664003, 0.01360158808529377, 0.016354894265532494, 0.00011092129716416821, -0.0010324899340048432, 0.01333513855934143, -0.013157506473362446, 0.0036382977850735188, 0.0067373537458479404, 0.008310671895742416, -0.016621343791484833, 0.028345100581645966, -0.0066104731522500515, 0.016431022435426712, 0.01487039215862751, -0.004247324075549841, -0.003955499269068241, -0.02367589809000492, 0.001571731991134584, -0.022267524152994156, -0.016519838944077492, 0.039840470999479294, 0.00630278792232275, 0.01192676555365324, 0.0239296592772007, 0.009027546271681786, 0.025414161384105682, 0.02022474817931652, -0.013728468678891659, -0.0037049101665616035, 0.03400396928191185, 0.028903374448418617, -0.0026977963279932737, -0.023739337921142578, -0.0041616796515882015, 0.004548665136098862, -0.0034352890215814114, -0.023701274767518044, 0.03263365849852562, -0.014312118291854858, 0.0223182775080204, -0.010810216888785362, -0.0014131313655525446, -0.0068198260851204395, -0.04143916442990303, 0.015200281515717506, -0.011774509213864803, -0.02292730286717415, -0.02211526781320572, -0.0010507289553061128, -0.02447524480521679, 0.03156786412000656, 0.00702917855232954, -0.008342391811311245, 0.01975529082119465, -0.004656513687223196, 0.00621397141367197, 0.007790461648255587, 0.009313027374446392, 0.015479418449103832, -0.04816383123397827, -0.024449868127703667, 0.013969541527330875, 0.0028643268160521984, -0.00630596000701189, -0.0017033704789355397, 0.021163664758205414, -0.014642007648944855, -0.021024096757173538, -0.021442800760269165, 0.016164572909474373, -0.022686230018734932, -0.013944164849817753, 0.016976607963442802, 0.022077204659581184, -0.016532527282834053, -0.022369029000401497, -0.013347826898097992, -0.008088630624115467, -0.015466731041669846, 0.00938281137496233, -0.02077033556997776, 0.006020478904247284, 0.008323359303176403, -0.023980410769581795, -0.003831790527328849, -0.009141738526523113, 0.002329842885956168, 0.007035522721707821, 0.01986948400735855, 0.001134787336923182, 0.02574405074119568, -0.0008175860857591033, -0.011165482923388481, 0.002055463846772909, -0.0059221466071903706, 0.014109109528362751, -0.0302736833691597, -0.012459663674235344, -0.0049293069168925285, -0.035957928746938705, 0.004501085262745619, 0.01712886430323124, 0.0034796972759068012, -0.015479418449103832, 0.004726298153400421, -0.00544317252933979, 0.002729516476392746, 0.01959034614264965, -0.006420152261853218, -0.024602126330137253, 0.005459032952785492, -0.03491750732064247, -0.031872376799583435, 0.0035399654880166054, -0.002927767112851143, 0.00600461894646287, 0.024272236973047256, 6.998251774348319e-05, 0.01978066749870777, 0.01622801460325718, -0.010626240633428097, -0.015644364058971405, -0.0030562335159629583, -0.033318813890218735, 0.009255930781364441, -0.005551021080464125, -0.0006074403063394129, -0.03319193422794342, 0.01278955303132534, -0.003003895515576005, 0.007650893181562424, 0.02022474817931652, 0.015809308737516403, -0.003099055727943778, 0.00149005267303437, -0.02547760121524334, 0.013500083237886429, -0.02628963626921177, -0.015022649429738522, 0.020529262721538544, -0.003137120045721531, 0.0032798603642731905, 0.00510376738384366, 0.002497959416359663, -0.004037971142679453, 0.0021093881223350763, -0.01985679566860199, 0.006661225575953722, 0.02456406131386757, -0.011939452961087227, -0.006991114467382431, 0.019361961632966995, 0.016545215621590614, 0.006188595667481422, -0.020871838554739952, -0.017484130337834358, -0.0007902274955995381, 0.023079559206962585, -0.008145727217197418, -0.005363872274756432, -0.006528000812977552, 0.0034067409578710794, -0.012047301977872849, 0.001993609592318535, -0.024817822501063347, 0.01187601312994957, -0.0041838837787508965, 0.014020293019711971, 0.00332109653390944, 0.00031601169030182064, -0.01084193680435419, -0.030984213575720787, 0.0004611312469933182, 0.004777050111442804, -0.007225843612104654, -0.02239440567791462, -0.0018286649137735367, 0.0005130729405209422, -0.0005364665412344038, -0.016824351623654366, -0.010017214342951775, 0.013170193880796432, -0.004843662492930889, 0.031060341745615005, 0.0036573298275470734, -0.014045669697225094, -0.031491734087467194, 0.03344569355249405, 0.019564971327781677, -0.005493924953043461, 0.020529262721538544, -0.006410636473447084, 0.017166929319500923, 0.005275056231766939, 0.011806229129433632, -0.031415607780218124, -0.02963928133249283, 0.008107663132250309, -0.003857166739180684, -0.0013901343336328864, 0.000964291684795171, 0.003612921806052327, -0.009985494427382946, -0.025426847860217094, 0.011679348535835743, 0.03816564753651619, -0.0079871267080307, 0.056639447808265686, 0.030527444556355476, -0.016380270943045616, -0.003011825494468212, 0.003381364978849888, 0.013500083237886429, 0.012922776862978935, 0.016177261248230934, -0.03697297349572182, -0.01509877759963274, 0.009452596306800842, -0.007282939739525318, 0.019070137292146683, -0.03073045238852501, -0.017750579863786697, -0.027431560680270195, -0.031390231102705, -0.00960485264658928, -0.007701645139604807, -0.020009052008390427, 0.025046207010746002, 0.0015590438852086663, 0.005823814310133457, -0.004872210323810577, -0.01830885373055935, -0.024437181651592255, 0.03623706474900246, 0.0014662626199424267, -0.002385352971032262, -0.020706893876194954, -0.00399039126932621, -0.0020871839951723814, -0.020275501534342766, -0.014109109528362751, 0.029436271637678146, -0.0010665890295058489, 0.016570590436458588, 0.013144818134605885, 0.03207538649439812, -0.00523382006213069, -0.016570590436458588, 0.011520748026669025, -0.013880725018680096, -0.008532712236046791, 0.02593437023460865, 0.03933294862508774, -0.029131758958101273, 0.018879815936088562, -0.04113465175032616]\n"
          ]
        }
      ],
      "source": [
        "endpoint= \"https://damailearning.openai.azure.com/openai/deployments/text-embedding-ada-002/embeddings?api-version=2023-05-15\"\n",
        "client = AzureOpenAI(\n",
        "    api_key=API_KEY,  # Use the variable instead of accessing os.environ again\n",
        "    azure_endpoint=endpoint,\n",
        "    api_version = \"2023-05-15\",\n",
        "  )\n",
        "\n",
        "text = 'the quick brown fox jumped over the lazy dog'\n",
        "model= \"text-embedding-ada-002\"\n",
        "\n",
        "response = client.embeddings.create(input=[text], model=model)\n",
        "embedding = response.data[0].embedding\n",
        "print(embedding)"
      ]
    },
    {
      "cell_type": "code",
      "execution_count": 53,
      "metadata": {
        "gather": {
          "logged": 1674829555255
        },
        "jupyter": {
          "outputs_hidden": false,
          "source_hidden": false
        },
        "nteract": {
          "transient": {
            "deleting": false
          }
        }
      },
      "outputs": [
        {
          "name": "stdout",
          "output_type": "stream",
          "text": [
            "0.9156742457275728\n",
            "0.8328772905605673\n",
            "0.7819139454359365\n"
          ]
        }
      ],
      "source": [
        "\n",
        "# compare several words\n",
        "automobile_embedding  = client.embeddings.create(input='automobile', model=model).data[0].embedding\n",
        "vehicle_embedding     = client.embeddings.create(input='vehicle', model=model).data[0].embedding\n",
        "dinosaur_embedding    = client.embeddings.create(input='dinosaur', model=model).data[0].embedding\n",
        "stick_embedding       = client.embeddings.create(input='stick', model=model).data[0].embedding\n",
        "\n",
        "print(cosine_similarity(automobile_embedding, vehicle_embedding))\n",
        "print(cosine_similarity(automobile_embedding, dinosaur_embedding))\n",
        "print(cosine_similarity(automobile_embedding, stick_embedding))"
      ]
    },
    {
      "cell_type": "code",
      "execution_count": null,
      "metadata": {},
      "outputs": [],
      "source": []
    },
    {
      "attachments": {},
      "cell_type": "markdown",
      "metadata": {
        "nteract": {
          "transient": {
            "deleting": false
          }
        }
      },
      "source": [
        "## Comparing article from cnn daily news dataset\n",
        "source: https://huggingface.co/datasets/cnn_dailymail\n"
      ]
    },
    {
      "cell_type": "code",
      "execution_count": 54,
      "metadata": {
        "gather": {
          "logged": 1674831122093
        },
        "jupyter": {
          "outputs_hidden": false,
          "source_hidden": false
        },
        "nteract": {
          "transient": {
            "deleting": false
          }
        }
      },
      "outputs": [
        {
          "data": {
            "text/html": [
              "<div>\n",
              "<style scoped>\n",
              "    .dataframe tbody tr th:only-of-type {\n",
              "        vertical-align: middle;\n",
              "    }\n",
              "\n",
              "    .dataframe tbody tr th {\n",
              "        vertical-align: top;\n",
              "    }\n",
              "\n",
              "    .dataframe thead th {\n",
              "        text-align: right;\n",
              "    }\n",
              "</style>\n",
              "<table border=\"1\" class=\"dataframe\">\n",
              "  <thead>\n",
              "    <tr style=\"text-align: right;\">\n",
              "      <th></th>\n",
              "      <th>articles</th>\n",
              "      <th>highligths</th>\n",
              "    </tr>\n",
              "  </thead>\n",
              "  <tbody>\n",
              "    <tr>\n",
              "      <th>0</th>\n",
              "      <td>BREMEN, Germany -- Carlos Alberto, who scored ...</td>\n",
              "      <td>Werder Bremen pay a club record $10.7 million ...</td>\n",
              "    </tr>\n",
              "    <tr>\n",
              "      <th>1</th>\n",
              "      <td>(CNN) -- Football superstar, celebrity, fashio...</td>\n",
              "      <td>Beckham has agreed to a five-year contract wit...</td>\n",
              "    </tr>\n",
              "    <tr>\n",
              "      <th>2</th>\n",
              "      <td>LOS ANGELES, California (CNN) -- Youssif, the ...</td>\n",
              "      <td>Boy on meeting Spider-Man: \"It was my favorite...</td>\n",
              "    </tr>\n",
              "  </tbody>\n",
              "</table>\n",
              "</div>"
            ],
            "text/plain": [
              "                                            articles  \\\n",
              "0  BREMEN, Germany -- Carlos Alberto, who scored ...   \n",
              "1  (CNN) -- Football superstar, celebrity, fashio...   \n",
              "2  LOS ANGELES, California (CNN) -- Youssif, the ...   \n",
              "\n",
              "                                          highligths  \n",
              "0  Werder Bremen pay a club record $10.7 million ...  \n",
              "1  Beckham has agreed to a five-year contract wit...  \n",
              "2  Boy on meeting Spider-Man: \"It was my favorite...  "
            ]
          },
          "execution_count": 54,
          "metadata": {},
          "output_type": "execute_result"
        }
      ],
      "source": [
        "import pandas as pd\n",
        "cnn_daily_articles = ['BREMEN, Germany -- Carlos Alberto, who scored in FC Porto\\'s Champions League final victory against Monaco in 2004, has joined Bundesliga club Werder Bremen for a club record fee of 7.8 million euros ($10.7 million). Carlos Alberto enjoyed success at FC Porto under Jose Mourinho. \"I\\'m here to win titles with Werder,\" the 22-year-old said after his first training session with his new club. \"I like Bremen and would only have wanted to come here.\" Carlos Alberto started his career with Fluminense, and helped them to lift the Campeonato Carioca in 2002. In January 2004 he moved on to FC Porto, who were coached by José Mourinho, and the club won the Portuguese title as well as the Champions League. Early in 2005, he moved to Corinthians, where he impressed as they won the Brasileirão,but in 2006 Corinthians had a poor season and Carlos Alberto found himself at odds with manager, Emerson Leão. Their poor relationship came to a climax at a Copa Sul-Americana game against Club Atlético Lanús, and Carlos Alberto declared that he would not play for Corinthians again while Leão remained as manager. Since January this year he has been on loan with his first club Fluminense. Bundesliga champions VfB Stuttgart said on Sunday that they would sign a loan agreement with Real Zaragoza on Monday for Ewerthon, the third top Brazilian player to join the German league in three days. A VfB spokesman said Ewerthon, who played in the Bundesliga for Borussia Dortmund from 2001 to 2005, was expected to join the club for their pre-season training in Austria on Monday. On Friday, Ailton returned to Germany where he was the league\\'s top scorer in 2004, signing a one-year deal with Duisburg on a transfer from Red Star Belgrade. E-mail to a friend .',\n",
        "                        '(CNN) -- Football superstar, celebrity, fashion icon, multimillion-dollar heartthrob. Now, David Beckham is headed for the Hollywood Hills as he takes his game to U.S. Major League Soccer. CNN looks at how Bekham fulfilled his dream of playing for Manchester United, and his time playing for England. The world\\'s famous footballer has begun a five-year contract with the Los Angeles Galaxy team, and on Friday Beckham will meet the press and reveal his new shirt number. This week, we take an in depth look at the life and times of Beckham, as CNN\\'s very own \"Becks,\" Becky Anderson, sets out to examine what makes the man tick -- as footballer, fashion icon and global phenomenon. It\\'s a long way from the streets of east London to the Hollywood Hills and Becky charts Beckham\\'s incredible rise to football stardom, a journey that has seen his skills grace the greatest stages in world soccer. She goes in pursuit of the current hottest property on the sports/celebrity circuit in the U.S. and along the way explores exactly what\\'s behind the man with the golden boot. CNN will look back at the life of Beckham, the wonderfully talented youngster who fulfilled his dream of playing for Manchester United, his marriage to pop star Victoria, and the trials and tribulations of playing for England. We\\'ll look at the highs (scoring against Greece), the lows (being sent off during the World Cup), the Man. U departure for the Galacticos of Madrid -- and now the Home Depot stadium in L.A. We\\'ll ask how Beckham and his family will adapt to life in Los Angeles -- the people, the places to see and be seen and the celebrity endorsement. Beckham is no stranger to exposure. He has teamed with Reggie Bush in an Adidas commercial, is the face of Motorola, is the face on a PlayStation game and doesn\\'t need fashion tips as he has his own international clothing line. But what does the star couple need to do to become an accepted part of Tinseltown\\'s glitterati? The road to major league football in the U.S.A. is a well-worn route for some of the world\\'s greatest players. We talk to some of the former greats who came before him and examine what impact these overseas stars had on U.S. soccer and look at what is different now. We also get a rare glimpse inside the David Beckham academy in L.A, find out what drives the kids and who are their heroes. The perception that in the U.S.A. soccer is a \"game for girls\" after the teenage years is changing. More and more young kids are choosing the European game over the traditional U.S. sports. E-mail to a friend .',\n",
        "                        'LOS ANGELES, California (CNN) -- Youssif, the 5-year-old burned Iraqi boy, rounded the corner at Universal Studios when suddenly the little boy hero met his favorite superhero. Youssif has always been a huge Spider-Man fan. Meeting him was \"my favorite thing,\" he said. Spider-Man was right smack dab in front of him, riding a four-wheeler amid a convoy of other superheroes. The legendary climber of buildings and fighter of evil dismounted, walked over to Youssif and introduced himself. Spidey then gave the boy from a far-away land a gentle hug, embracing him in his iconic blue and red tights. He showed Youssif a few tricks, like how to shoot a web from his wrist. Only this time, no web was spun. \"All right Youssif!\" Spider-Man said after the boy mimicked his wrist movement. Other superheroes crowded around to get a closer look. Even the Green Goblin stopped his villainous ways to tell the boy hi. Youssif remained unfazed. He didn\\'t take a liking to Spider-Man\\'s nemesis. Spidey was just too cool. \"It was my favorite thing,\" the boy said later. \"I want to see him again.\" He then felt compelled to add: \"I know it\\'s not the real Spider-Man.\" This was the day of dreams when the boy\\'s nightmares were, at least temporarily, forgotten. He met SpongeBob, Lassie and a 3-year-old orangutan named Archie. The hairy, brownish-red primate took to the boy, grabbing his hand and holding it. Even when Youssif pulled away, Archie would inch his hand back toward the boy\\'s and then snatch it. See Youssif enjoy being a boy again » . The boy giggled inside a play area where sponge-like balls shot out of toy guns. It was a far different artillery than what he was used to seeing in central Baghdad, as recently as a week ago. He squealed with delight and raced around the room collecting as many balls as he could. He rode a tram through the back stages at Universal Studios. At one point, the car shook. Fire and smoke filled the air, debris cascaded down and a big rig skidded toward the vehicle. The boy and his family survived the pretend earthquake unscathed. \"Even I was scared,\" the dad said. \"Well, I wasn\\'t,\" Youssif replied. The father and mother grinned from ear to ear throughout the day. Youssif pushed his 14-month-old sister, Ayaa, in a stroller. \"Did you even need to ask us if we were interested in coming here?\" Youssif\\'s father said in amazement. \"Other than my wedding day, this is the happiest day of my life,\" he said. Just a day earlier, the mother and father talked about their journey out of Iraq and to the United States. They also discussed that day nine months ago when masked men grabbed their son outside the family home, doused him in gas and set him on fire. His mother heard her boy screaming from inside. The father sought help for his boy across Baghdad, but no one listened. He remembers his son\\'s two months of hospitalization. The doctors didn\\'t use anesthetics. He could hear his boy\\'s piercing screams from the other side of the hospital. Watch Youssif meet his doctor and play with his little sister » . The father knew that speaking to CNN would put his family\\'s lives in jeopardy. The possibility of being killed was better than seeing his son suffer, he said. \"Anything for Youssif,\" he said. \"We had to do it.\" They described a life of utter chaos in Baghdad. Neighbors had recently given birth to a baby girl. Shortly afterward, the father was kidnapped and killed. Then, there was the time when some girls wore tanktops and jeans. They were snatched off the street by gunmen. The stories can be even more gruesome. The couple said they had heard reports that a young girl was kidnapped and beheaded --and her killers sewed a dog\\'s head on the corpse and delivered it to her family\\'s doorstep. \"These are just some of the stories,\" said Youssif\\'s mother, Zainab. Under Saddam Hussein, there was more security and stability, they said. There was running water and electricity most of the time. But still life was tough under the dictator, like the time when Zainab\\'s uncle disappeared and was never heard from again after he read a \"religious book,\" she said. Sitting in the parking lot of a Target in suburban Los Angeles, Youssif\\'s father watched as husbands and wives, boyfriends and girlfriends, parents and their children, came and went. Some held hands. Others smiled and laughed. \"Iraq finished,\" he said in what few English words he knows. He elaborated in Arabic: His homeland won\\'t be enjoying such freedoms anytime soon. It\\'s just not possible. Too much violence. Too many killings. His two children have only seen war. But this week, the family has seen a much different side of America -- an outpouring of generosity and a peaceful nation at home. \"It\\'s been a dream,\" the father said. He used to do a lot of volunteer work back in Baghdad. \"Maybe that\\'s why I\\'m being helped now,\" the father said. At Universal Studios, he looked out across the valley below. The sun glistened off treetops and buildings. It was a picturesque sight fit for a Hollywood movie. \"Good America, good America,\" he said in English. E-mail to a friend . CNN\\'s Arwa Damon contributed to this report.'\n",
        "]\n",
        "\n",
        "cnn_daily_article_highlights = ['Werder Bremen pay a club record $10.7 million for Carlos Alberto .\\nThe Brazilian midfielder won the Champions League with FC Porto in 2004 .\\nSince January he has been on loan with his first club, Fluminense .',\n",
        "                                'Beckham has agreed to a five-year contract with Los Angeles Galaxy .\\nNew contract took effect July 1, 2007 .\\nFormer English captain to meet press, unveil new shirt number Friday .\\nCNN to look at Beckham as footballer, fashion icon and global phenomenon .',\n",
        "                                'Boy on meeting Spider-Man: \"It was my favorite thing\"\\nYoussif also met SpongeBob, Lassie and an orangutan at Universal Studios .\\nDad: \"Other than my wedding day, this is the happiest day of my life\"'\n",
        "]\n",
        "\n",
        "cnn_df = pd.DataFrame({\"articles\":cnn_daily_articles, \"highligths\":cnn_daily_article_highlights})\n",
        "\n",
        "cnn_df.head()"
      ]
    },
    {
      "cell_type": "code",
      "execution_count": 55,
      "metadata": {
        "gather": {
          "logged": 1674831294043
        },
        "jupyter": {
          "outputs_hidden": false,
          "source_hidden": false
        },
        "nteract": {
          "transient": {
            "deleting": false
          }
        }
      },
      "outputs": [
        {
          "name": "stdout",
          "output_type": "stream",
          "text": [
            "0.7615834020351547\n",
            "0.7095630400274567\n"
          ]
        }
      ],
      "source": [
        "article1_embedding    = client.embeddings.create(input=cnn_df.articles.iloc[0], model=model).data[0].embedding\n",
        "article2_embedding    = client.embeddings.create(input=cnn_df.articles.iloc[1], model=model).data[0].embedding\n",
        "article3_embedding    = client.embeddings.create(input=cnn_df.articles.iloc[2], model=model).data[0].embedding\n",
        "\n",
        "print(cosine_similarity(article1_embedding, article2_embedding))\n",
        "print(cosine_similarity(article1_embedding, article3_embedding))"
      ]
    },
    {
      "attachments": {},
      "cell_type": "markdown",
      "metadata": {
        "nteract": {
          "transient": {
            "deleting": false
          }
        }
      },
      "source": [
        "# References  \n",
        "- [Azure Documentation - Azure OpenAI Models](https://learn.microsoft.com/azure/cognitive-services/openai/concepts/models?WT.mc_id=academic-105485-koreyst)  \n",
        "- [OpenAI Studio Examples](https://oai.azure.com/portal?WT.mc_id=academic-105485-koreyst)  "
      ]
    },
    {
      "attachments": {},
      "cell_type": "markdown",
      "metadata": {
        "nteract": {
          "transient": {
            "deleting": false
          }
        }
      },
      "source": [
        "# For More Help  \n",
        "[OpenAI Commercialization Team](AzureOpenAITeam@microsoft.com)"
      ]
    },
    {
      "attachments": {},
      "cell_type": "markdown",
      "metadata": {
        "nteract": {
          "transient": {
            "deleting": false
          }
        }
      },
      "source": [
        "# Contributors\n",
        "* Louis Li  \n"
      ]
    }
  ],
  "metadata": {
    "kernel_info": {
      "name": "python310-sdkv2"
    },
    "kernelspec": {
      "display_name": "Python 3",
      "language": "python",
      "name": "python3"
    },
    "language_info": {
      "codemirror_mode": {
        "name": "ipython",
        "version": 3
      },
      "file_extension": ".py",
      "mimetype": "text/x-python",
      "name": "python",
      "nbconvert_exporter": "python",
      "pygments_lexer": "ipython3",
      "version": "3.12.1"
    },
    "microsoft": {
      "host": {
        "AzureML": {
          "notebookHasBeenCompleted": true
        }
      }
    },
    "nteract": {
      "version": "nteract-front-end@1.0.0"
    }
  },
  "nbformat": 4,
  "nbformat_minor": 2
}
